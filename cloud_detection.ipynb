{
 "cells": [
  {
   "cell_type": "markdown",
   "id": "b3f54210",
   "metadata": {
    "papermill": {
     "duration": 0.005154,
     "end_time": "2024-12-16T13:54:20.779193",
     "exception": false,
     "start_time": "2024-12-16T13:54:20.774039",
     "status": "completed"
    },
    "tags": []
   },
   "source": [
    "# Import the data"
   ]
  },
  {
   "cell_type": "code",
   "execution_count": 1,
   "id": "5f319889",
   "metadata": {
    "execution": {
     "iopub.execute_input": "2024-12-16T13:54:20.789886Z",
     "iopub.status.busy": "2024-12-16T13:54:20.789621Z",
     "iopub.status.idle": "2024-12-16T13:54:23.620184Z",
     "shell.execute_reply": "2024-12-16T13:54:23.619473Z"
    },
    "papermill": {
     "duration": 2.838605,
     "end_time": "2024-12-16T13:54:23.622157",
     "exception": false,
     "start_time": "2024-12-16T13:54:20.783552",
     "status": "completed"
    },
    "tags": []
   },
   "outputs": [],
   "source": [
    "import torch\n",
    "from torch.utils.data import Dataset\n",
    "import numpy as np\n",
    "from PIL import Image"
   ]
  },
  {
   "cell_type": "code",
   "execution_count": 2,
   "id": "d7c2600f",
   "metadata": {
    "execution": {
     "iopub.execute_input": "2024-12-16T13:54:23.632420Z",
     "iopub.status.busy": "2024-12-16T13:54:23.632059Z",
     "iopub.status.idle": "2024-12-16T13:54:25.161053Z",
     "shell.execute_reply": "2024-12-16T13:54:25.159780Z"
    },
    "papermill": {
     "duration": 1.536179,
     "end_time": "2024-12-16T13:54:25.163066",
     "exception": false,
     "start_time": "2024-12-16T13:54:23.626887",
     "status": "completed"
    },
    "tags": []
   },
   "outputs": [
    {
     "name": "stderr",
     "output_type": "stream",
     "text": [
      "/opt/conda/lib/python3.10/site-packages/albumentations/__init__.py:24: UserWarning: A new version of Albumentations is available: 1.4.22 (you have 1.4.21). Upgrade using: pip install -U albumentations. To disable automatic update checks, set the environment variable NO_ALBUMENTATIONS_UPDATE to 1.\n",
      "  check_for_updates()\n"
     ]
    }
   ],
   "source": [
    "import albumentations as augment\n",
    "from albumentations.pytorch import ToTensorV2"
   ]
  },
  {
   "cell_type": "code",
   "execution_count": 3,
   "id": "1d6d6e35",
   "metadata": {
    "execution": {
     "iopub.execute_input": "2024-12-16T13:54:25.175097Z",
     "iopub.status.busy": "2024-12-16T13:54:25.174700Z",
     "iopub.status.idle": "2024-12-16T13:54:25.179845Z",
     "shell.execute_reply": "2024-12-16T13:54:25.178913Z"
    },
    "papermill": {
     "duration": 0.013421,
     "end_time": "2024-12-16T13:54:25.181782",
     "exception": false,
     "start_time": "2024-12-16T13:54:25.168361",
     "status": "completed"
    },
    "tags": []
   },
   "outputs": [],
   "source": [
    "def get_augmentations():\n",
    "    geometric_augmentation = augment.Compose([\n",
    "        augment.HorizontalFlip(p=0.4),\n",
    "        augment.VerticalFlip(p=0.4),\n",
    "        augment.RandomRotate90(p=0.4),\n",
    "    ])\n",
    "\n",
    "    full_augmentation = augment.Compose([\n",
    "        augment.RandomBrightnessContrast(p=0.1),\n",
    "        augment.GaussNoise(var_limit=(3.0, 10.0), p=0.2),\n",
    "        ToTensorV2()\n",
    "    ])\n",
    "\n",
    "    return geometric_augmentation, full_augmentation"
   ]
  },
  {
   "cell_type": "code",
   "execution_count": 4,
   "id": "347b7b11",
   "metadata": {
    "execution": {
     "iopub.execute_input": "2024-12-16T13:54:25.192460Z",
     "iopub.status.busy": "2024-12-16T13:54:25.192161Z",
     "iopub.status.idle": "2024-12-16T13:54:25.201069Z",
     "shell.execute_reply": "2024-12-16T13:54:25.200241Z"
    },
    "papermill": {
     "duration": 0.015897,
     "end_time": "2024-12-16T13:54:25.202561",
     "exception": false,
     "start_time": "2024-12-16T13:54:25.186664",
     "status": "completed"
    },
    "tags": []
   },
   "outputs": [],
   "source": [
    "class CloudDataset(Dataset):\n",
    "    def __init__(self, image_paths, gt_mask_paths=None, augmentations=None):\n",
    "        \"\"\"\n",
    "        Args:\n",
    "            image_paths (dict): Dictionary with keys \"red\", \"green\", \"blue\",\n",
    "                \"nir\" pointing to file paths for each channel.\n",
    "            gt_mask_paths (list): List of file paths for ground truth masks.\n",
    "            augmentations (callable, optional): Augmentations to apply to the\n",
    "                images and masks (should only be used for the training set).\n",
    "        \"\"\"\n",
    "        self.image_paths = image_paths\n",
    "        self.gt_mask_paths = gt_mask_paths\n",
    "        self.augmentations = augmentations\n",
    "\n",
    "    def __len__(self):\n",
    "        return len(self.image_paths[\"red\"])  # Since all channels have the same number of images\n",
    "\n",
    "    def __getitem__(self, idx):\n",
    "        # Load input images\n",
    "        red = Image.open(self.image_paths[\"red\"][idx])\n",
    "        green = Image.open(self.image_paths[\"green\"][idx])\n",
    "        blue = Image.open(self.image_paths[\"blue\"][idx])\n",
    "        nir = Image.open(self.image_paths[\"nir\"][idx])\n",
    "\n",
    "        # Combine all input channels into a 4-channel tensor\n",
    "        image = np.stack([np.array(red), np.array(green), np.array(blue), np.array(nir)], axis=2)\n",
    "        image = image.astype(np.float32)\n",
    "\n",
    "        # Load ground truth mask\n",
    "        gt_mask = None\n",
    "        if self.gt_mask_paths is not None:\n",
    "            gt_mask = np.array(Image.open(self.gt_mask_paths[idx]))\n",
    "\n",
    "        # Apply augmentations to the training dataset\n",
    "        if self.augmentations:\n",
    "            geometric_augmentation, full_augmentation = self.augmentations\n",
    "            geometric_aug = geometric_augmentation(image=image, mask=gt_mask)\n",
    "            image, gt_mask = geometric_aug[\"image\"], geometric_aug[\"mask\"]\n",
    "            full_aug = full_augmentation(image=image)\n",
    "            image = full_aug[\"image\"]\n",
    "            image = image.round()\n",
    "            torch.clamp(image, 0, 65535)\n",
    "        else:\n",
    "            image = torch.from_numpy(image).permute(2, 0, 1)\n",
    "\n",
    "        # Normalize the input image to [0, 1], and the ground truth mask to {0, 1}\n",
    "        image = image.float() / 65535.0\n",
    "        if gt_mask is not None:\n",
    "            gt_mask = torch.from_numpy(gt_mask).float() / 255.0\n",
    "            gt_mask = gt_mask.unsqueeze(0)  # Add channel dimension\n",
    "            return image, gt_mask\n",
    "\n",
    "        return image"
   ]
  },
  {
   "cell_type": "code",
   "execution_count": 5,
   "id": "72977236",
   "metadata": {
    "execution": {
     "iopub.execute_input": "2024-12-16T13:54:25.212710Z",
     "iopub.status.busy": "2024-12-16T13:54:25.212150Z",
     "iopub.status.idle": "2024-12-16T13:54:25.969725Z",
     "shell.execute_reply": "2024-12-16T13:54:25.968259Z"
    },
    "papermill": {
     "duration": 0.767557,
     "end_time": "2024-12-16T13:54:25.974440",
     "exception": false,
     "start_time": "2024-12-16T13:54:25.206883",
     "status": "completed"
    },
    "tags": []
   },
   "outputs": [],
   "source": [
    "import os\n",
    "from sklearn.model_selection import train_test_split\n",
    "from glob import glob"
   ]
  },
  {
   "cell_type": "code",
   "execution_count": 6,
   "id": "83784076",
   "metadata": {
    "execution": {
     "iopub.execute_input": "2024-12-16T13:54:25.996765Z",
     "iopub.status.busy": "2024-12-16T13:54:25.995304Z",
     "iopub.status.idle": "2024-12-16T13:54:27.695041Z",
     "shell.execute_reply": "2024-12-16T13:54:27.694261Z"
    },
    "papermill": {
     "duration": 1.714148,
     "end_time": "2024-12-16T13:54:27.696939",
     "exception": false,
     "start_time": "2024-12-16T13:54:25.982791",
     "status": "completed"
    },
    "tags": []
   },
   "outputs": [
    {
     "name": "stdout",
     "output_type": "stream",
     "text": [
      "Number of files in train_red: 17929\n",
      "Number of files in train_green: 17929\n",
      "Number of files in train_blue: 17929\n",
      "Number of files in train_nir: 17929\n",
      "Number of files in train_gt: 17929\n"
     ]
    }
   ],
   "source": [
    "def load_dataset_paths(base_path, mode):\n",
    "    \"\"\"\n",
    "    Load paths for all channels and ground truth masks\n",
    "    \n",
    "    Args:\n",
    "        base_path (str): Path to the dataset directory\n",
    "        mode (str): \"train\" for training data (includes GT masks) and \"test\" for test data\n",
    "        \n",
    "    Returns:\n",
    "        tuple: Dictionary of image paths and list of GT mask paths (if train)\n",
    "    \"\"\"\n",
    "    # Initialize paths dictionary\n",
    "    image_paths = {}\n",
    "    \n",
    "    # Get and print paths for each channel\n",
    "    for channel in [\"red\", \"green\", \"blue\", \"nir\"]:\n",
    "        pattern = os.path.join(base_path, f\"{mode}_{channel}\", \"*.TIF\")\n",
    "        files = sorted(glob(pattern))\n",
    "        print(f\"Number of files in {mode}_{channel}: {len(files)}\")\n",
    "        image_paths[channel] = files\n",
    "\n",
    "    if mode == \"train\":\n",
    "        gt_pattern = os.path.join(base_path, \"train_gt\", \"*.TIF\")\n",
    "        gt_mask_paths = sorted(glob(gt_pattern))\n",
    "        print(f\"Number of files in train_gt: {len(gt_mask_paths)}\")\n",
    "        return image_paths, gt_mask_paths\n",
    "    \n",
    "    return image_paths, None\n",
    "\n",
    "\n",
    "# Load the dataset\n",
    "train_val_path = \"/kaggle/input/cloud-dataset/train_val_set/train_val_set/\"\n",
    "test_path = \"/kaggle/input/cloud-dataset/test_set/test_set/\"\n",
    "train_val_images, train_val_masks = load_dataset_paths(train_val_path, mode=\"train\")"
   ]
  },
  {
   "cell_type": "code",
   "execution_count": 7,
   "id": "39f5c1a5",
   "metadata": {
    "execution": {
     "iopub.execute_input": "2024-12-16T13:54:27.707532Z",
     "iopub.status.busy": "2024-12-16T13:54:27.707250Z",
     "iopub.status.idle": "2024-12-16T13:54:28.682940Z",
     "shell.execute_reply": "2024-12-16T13:54:28.682059Z"
    },
    "papermill": {
     "duration": 0.982981,
     "end_time": "2024-12-16T13:54:28.684725",
     "exception": false,
     "start_time": "2024-12-16T13:54:27.701744",
     "status": "completed"
    },
    "tags": []
   },
   "outputs": [
    {
     "name": "stdout",
     "output_type": "stream",
     "text": [
      "Number of files in test_red: 9201\n",
      "Number of files in test_green: 9201\n",
      "Number of files in test_blue: 9201\n",
      "Number of files in test_nir: 9201\n"
     ]
    }
   ],
   "source": [
    "def split_train_val(image_paths, gt_mask_paths, val_size=0.2, random_state=42):\n",
    "    \"\"\"\n",
    "    Split the dataset into training and validation sets\n",
    "    \n",
    "    Args:\n",
    "        image_paths (dict): Dictionary containing paths for each channel\n",
    "        gt_mask_paths (list): List of ground truth mask paths\n",
    "        val_size (float): Proportion of the dataset to include in the validation split\n",
    "        random_state (int): Random state for reproducibility\n",
    "        \n",
    "    Returns:\n",
    "        tuple: Train, validation, and test image paths and GT mask paths\n",
    "    \"\"\"\n",
    "    # Get indices for splitting\n",
    "    indices = list(range(len(gt_mask_paths)))\n",
    "    train_indices, val_indices = train_test_split(\n",
    "        indices, test_size=val_size, random_state=random_state\n",
    "    )\n",
    "    \n",
    "    # Split image paths\n",
    "    train_image_paths = {\n",
    "        channel: [paths[i] for i in train_indices] \n",
    "        for channel, paths in image_paths.items()\n",
    "    }\n",
    "    \n",
    "    val_image_paths = {\n",
    "        channel: [paths[i] for i in val_indices] \n",
    "        for channel, paths in image_paths.items()\n",
    "    }\n",
    "    \n",
    "    # Split GT mask paths\n",
    "    train_gt_paths = [gt_mask_paths[i] for i in train_indices]\n",
    "    val_gt_paths = [gt_mask_paths[i] for i in val_indices]\n",
    "    \n",
    "    return train_image_paths, train_gt_paths, val_image_paths, val_gt_paths\n",
    "\n",
    "\n",
    "# Split train_val_set into training and validation sets\n",
    "train_image_paths, train_gt_mask_paths, val_image_paths, val_gt_mask_paths = split_train_val(\n",
    "    train_val_images, train_val_masks, val_size=0.2\n",
    ")\n",
    "\n",
    "# Load test data\n",
    "test_image_paths, _ = load_dataset_paths(test_path, mode=\"test\")\n",
    "\n",
    "# Create datasets\n",
    "train_set = CloudDataset(\n",
    "    image_paths=train_image_paths,\n",
    "    gt_mask_paths=train_gt_mask_paths,\n",
    "    augmentations=get_augmentations()\n",
    ")\n",
    "\n",
    "val_set = CloudDataset(\n",
    "    image_paths=val_image_paths,\n",
    "    gt_mask_paths=val_gt_mask_paths,\n",
    "    augmentations=None\n",
    ")\n",
    "\n",
    "test_set = CloudDataset(\n",
    "    image_paths=test_image_paths,\n",
    "    gt_mask_paths=None,\n",
    "    augmentations=None\n",
    ")"
   ]
  },
  {
   "cell_type": "code",
   "execution_count": 8,
   "id": "569f8f77",
   "metadata": {
    "execution": {
     "iopub.execute_input": "2024-12-16T13:54:28.695602Z",
     "iopub.status.busy": "2024-12-16T13:54:28.695330Z",
     "iopub.status.idle": "2024-12-16T13:54:28.701407Z",
     "shell.execute_reply": "2024-12-16T13:54:28.700616Z"
    },
    "papermill": {
     "duration": 0.013269,
     "end_time": "2024-12-16T13:54:28.703009",
     "exception": false,
     "start_time": "2024-12-16T13:54:28.689740",
     "status": "completed"
    },
    "tags": []
   },
   "outputs": [
    {
     "data": {
      "text/plain": [
       "(14343, 3586, 0.20001115511182999)"
      ]
     },
     "execution_count": 8,
     "metadata": {},
     "output_type": "execute_result"
    }
   ],
   "source": [
    "len(train_set), len(val_set), (len(val_set)/(len(train_set) + len(val_set)))"
   ]
  },
  {
   "cell_type": "code",
   "execution_count": 9,
   "id": "1ad0e40d",
   "metadata": {
    "execution": {
     "iopub.execute_input": "2024-12-16T13:54:28.713661Z",
     "iopub.status.busy": "2024-12-16T13:54:28.713413Z",
     "iopub.status.idle": "2024-12-16T13:54:28.718053Z",
     "shell.execute_reply": "2024-12-16T13:54:28.717299Z"
    },
    "papermill": {
     "duration": 0.011787,
     "end_time": "2024-12-16T13:54:28.719657",
     "exception": false,
     "start_time": "2024-12-16T13:54:28.707870",
     "status": "completed"
    },
    "tags": []
   },
   "outputs": [
    {
     "data": {
      "text/plain": [
       "9201"
      ]
     },
     "execution_count": 9,
     "metadata": {},
     "output_type": "execute_result"
    }
   ],
   "source": [
    "len(test_set)"
   ]
  },
  {
   "cell_type": "markdown",
   "id": "09e12db4",
   "metadata": {
    "papermill": {
     "duration": 0.004969,
     "end_time": "2024-12-16T13:54:28.729423",
     "exception": false,
     "start_time": "2024-12-16T13:54:28.724454",
     "status": "completed"
    },
    "tags": []
   },
   "source": [
    "# Model Architecture"
   ]
  },
  {
   "cell_type": "code",
   "execution_count": 10,
   "id": "1150ede3",
   "metadata": {
    "execution": {
     "iopub.execute_input": "2024-12-16T13:54:28.739994Z",
     "iopub.status.busy": "2024-12-16T13:54:28.739757Z",
     "iopub.status.idle": "2024-12-16T13:54:28.743608Z",
     "shell.execute_reply": "2024-12-16T13:54:28.742830Z"
    },
    "papermill": {
     "duration": 0.01085,
     "end_time": "2024-12-16T13:54:28.745134",
     "exception": false,
     "start_time": "2024-12-16T13:54:28.734284",
     "status": "completed"
    },
    "tags": []
   },
   "outputs": [],
   "source": [
    "import torch.nn as nn\n",
    "import torch.nn.functional as F\n",
    "from torch.utils.data import DataLoader\n",
    "import torch.optim as optim\n",
    "from tqdm import tqdm\n",
    "from sklearn.metrics import accuracy_score, precision_score, recall_score"
   ]
  },
  {
   "cell_type": "code",
   "execution_count": 11,
   "id": "c5c467f7",
   "metadata": {
    "execution": {
     "iopub.execute_input": "2024-12-16T13:54:28.755820Z",
     "iopub.status.busy": "2024-12-16T13:54:28.755571Z",
     "iopub.status.idle": "2024-12-16T13:54:28.760466Z",
     "shell.execute_reply": "2024-12-16T13:54:28.759680Z"
    },
    "papermill": {
     "duration": 0.011919,
     "end_time": "2024-12-16T13:54:28.761981",
     "exception": false,
     "start_time": "2024-12-16T13:54:28.750062",
     "status": "completed"
    },
    "tags": []
   },
   "outputs": [],
   "source": [
    "class ConvBlock(nn.Module):\n",
    "    def __init__(self, in_channels, out_channels):\n",
    "        super(ConvBlock, self).__init__()\n",
    "        self.conv1 = nn.Conv2d(in_channels, out_channels, kernel_size=3, padding=1)\n",
    "        self.bn1 = nn.BatchNorm2d(out_channels)\n",
    "        self.conv2 = nn.Conv2d(out_channels, out_channels, kernel_size=3, padding=1)\n",
    "        self.bn2 = nn.BatchNorm2d(out_channels)\n",
    "\n",
    "    def forward(self, x):\n",
    "        x = F.relu(self.bn1(self.conv1(x)))\n",
    "        x = F.relu(self.bn2(self.conv2(x)))\n",
    "        return x"
   ]
  },
  {
   "cell_type": "code",
   "execution_count": 12,
   "id": "66d90ef1",
   "metadata": {
    "execution": {
     "iopub.execute_input": "2024-12-16T13:54:28.772627Z",
     "iopub.status.busy": "2024-12-16T13:54:28.772383Z",
     "iopub.status.idle": "2024-12-16T13:54:28.778314Z",
     "shell.execute_reply": "2024-12-16T13:54:28.777523Z"
    },
    "papermill": {
     "duration": 0.012993,
     "end_time": "2024-12-16T13:54:28.779893",
     "exception": false,
     "start_time": "2024-12-16T13:54:28.766900",
     "status": "completed"
    },
    "tags": []
   },
   "outputs": [],
   "source": [
    "class AttentionBlock(nn.Module):\n",
    "    def __init__(self, in_channels, gating_channels, inter_channels):\n",
    "        super(AttentionBlock, self).__init__()\n",
    "        self.W_g = nn.Sequential(\n",
    "            nn.Conv2d(gating_channels, inter_channels, kernel_size=1),\n",
    "            nn.BatchNorm2d(inter_channels)\n",
    "        )\n",
    "        self.W_x = nn.Sequential(\n",
    "            nn.Conv2d(in_channels, inter_channels, kernel_size=1),\n",
    "            nn.BatchNorm2d(inter_channels)\n",
    "        )\n",
    "        self.psi = nn.Sequential(\n",
    "            nn.Conv2d(inter_channels, 1, kernel_size=1),\n",
    "            nn.BatchNorm2d(1),\n",
    "            nn.Sigmoid()\n",
    "        )\n",
    "        self.relu = nn.ReLU()\n",
    "\n",
    "    def forward(self, x, g):\n",
    "        # Resize x to match g's spatial dimensions\n",
    "        x_resized = F.interpolate(x, size=g.shape[2:], mode=\"bilinear\", align_corners=True)\n",
    "        \n",
    "        # Transform features\n",
    "        g1 = self.W_g(g)  # Context from decoder\n",
    "        x1 = self.W_x(x_resized)  # Resized skip connection\n",
    "        \n",
    "        # Compute attention map\n",
    "        psi = self.relu(g1 + x1)  # Element-wise addition and ReLU\n",
    "        psi = self.psi(psi)  # Sigmoid activation for attention map\n",
    "        \n",
    "        # Apply attention to resized skip connection\n",
    "        return x_resized * psi"
   ]
  },
  {
   "cell_type": "code",
   "execution_count": 13,
   "id": "a846e2f8",
   "metadata": {
    "execution": {
     "iopub.execute_input": "2024-12-16T13:54:28.790484Z",
     "iopub.status.busy": "2024-12-16T13:54:28.790242Z",
     "iopub.status.idle": "2024-12-16T13:54:28.794083Z",
     "shell.execute_reply": "2024-12-16T13:54:28.793322Z"
    },
    "papermill": {
     "duration": 0.011094,
     "end_time": "2024-12-16T13:54:28.795781",
     "exception": false,
     "start_time": "2024-12-16T13:54:28.784687",
     "status": "completed"
    },
    "tags": []
   },
   "outputs": [],
   "source": [
    "def crop_and_concat(encoder_features, decoder_features):\n",
    "    # Crop encoder_features to match decoder_features\n",
    "    _, _, h, w = decoder_features.shape\n",
    "    encoder_features = F.interpolate(encoder_features, size=(h, w), mode=\"bilinear\", align_corners=True)\n",
    "    return encoder_features"
   ]
  },
  {
   "cell_type": "code",
   "execution_count": 14,
   "id": "335806c3",
   "metadata": {
    "execution": {
     "iopub.execute_input": "2024-12-16T13:54:28.806560Z",
     "iopub.status.busy": "2024-12-16T13:54:28.806325Z",
     "iopub.status.idle": "2024-12-16T13:54:28.820646Z",
     "shell.execute_reply": "2024-12-16T13:54:28.819799Z"
    },
    "papermill": {
     "duration": 0.02148,
     "end_time": "2024-12-16T13:54:28.822209",
     "exception": false,
     "start_time": "2024-12-16T13:54:28.800729",
     "status": "completed"
    },
    "tags": []
   },
   "outputs": [],
   "source": [
    "class UNetWithAttention(nn.Module):\n",
    "    def __init__(self, in_channels, out_channels):\n",
    "        super(UNetWithAttention, self).__init__()\n",
    "        # Encoder\n",
    "        self.encoder1 = ConvBlock(in_channels, 32)\n",
    "        self.encoder2 = ConvBlock(32, 64)\n",
    "        self.encoder3 = ConvBlock(64, 128)\n",
    "        self.encoder4 = ConvBlock(128, 256)\n",
    "\n",
    "        self.pool = nn.MaxPool2d(kernel_size=2, stride=2)\n",
    "\n",
    "        # Bottleneck\n",
    "        self.bottleneck = ConvBlock(256, 512)\n",
    "\n",
    "        # Attention and Decoder\n",
    "        self.att4 = AttentionBlock(256, 512, 128)\n",
    "        self.upconv4 = nn.ConvTranspose2d(512, 256, kernel_size=2, stride=2)\n",
    "        self.decoder4 = ConvBlock(512, 256)\n",
    "\n",
    "        self.att3 = AttentionBlock(128, 256, 64)\n",
    "        self.upconv3 = nn.ConvTranspose2d(256, 128, kernel_size=2, stride=2)\n",
    "        self.decoder3 = ConvBlock(256, 128)\n",
    "\n",
    "        self.att2 = AttentionBlock(64, 128, 32)\n",
    "        self.upconv2 = nn.ConvTranspose2d(128, 64, kernel_size=2, stride=2)\n",
    "        self.decoder2 = ConvBlock(128, 64)\n",
    "\n",
    "        self.att1 = AttentionBlock(32, 64, 16)\n",
    "        self.upconv1 = nn.ConvTranspose2d(64, 32, kernel_size=2, stride=2)\n",
    "        self.decoder1 = ConvBlock(64, 32)\n",
    "\n",
    "        # Final Convolution\n",
    "        self.final_conv = nn.Conv2d(32, out_channels, kernel_size=1)\n",
    "\n",
    "    def forward(self, x):\n",
    "        # Encoder\n",
    "        e1 = self.encoder1(x)  # 384x384 -> 32x380x380\n",
    "        e2 = self.encoder2(self.pool(e1))  # 190x190 -> 64x186x186\n",
    "        e3 = self.encoder3(self.pool(e2))  # 93x93 -> 128x89x89\n",
    "        e4 = self.encoder4(self.pool(e3))  # 45x45 -> 256x41x41\n",
    "\n",
    "        # Bottleneck\n",
    "        b = self.bottleneck(self.pool(e4))  # 41x41 -> 512x41x41\n",
    "\n",
    "        # Decoder with Attention Gates\n",
    "        up4 = self.upconv4(b)\n",
    "        att4 = self.att4(e4, b)\n",
    "        d4 = self.decoder4(torch.cat([crop_and_concat(att4, up4), up4], dim=1))  # 256x41x41 -> 128x82x82\n",
    "\n",
    "        up3 = self.upconv3(d4)\n",
    "        att3 = self.att3(e3, d4)\n",
    "        d3 = self.decoder3(torch.cat([crop_and_concat(att3, up3), up3], dim=1))  # 128x82x82 -> 64x166x166\n",
    "\n",
    "        up2 = self.upconv2(d3)\n",
    "        att2 = self.att2(e2, d3)\n",
    "        d2 = self.decoder2(torch.cat([crop_and_concat(att2, up2), up2], dim=1))  # 64x166x166 -> 32x324x324\n",
    "\n",
    "        up1 = self.upconv1(d2)\n",
    "        att1 = self.att1(e1, d2)\n",
    "        d1 = self.decoder1(torch.cat([crop_and_concat(att1, up1), up1], dim=1))  # 32x324x324\n",
    "\n",
    "        # Output\n",
    "        return torch.sigmoid(self.final_conv(d1))  # 1x324x324"
   ]
  },
  {
   "cell_type": "code",
   "execution_count": 15,
   "id": "29c92878",
   "metadata": {
    "execution": {
     "iopub.execute_input": "2024-12-16T13:54:28.833277Z",
     "iopub.status.busy": "2024-12-16T13:54:28.833021Z",
     "iopub.status.idle": "2024-12-16T13:54:28.838820Z",
     "shell.execute_reply": "2024-12-16T13:54:28.838153Z"
    },
    "papermill": {
     "duration": 0.013155,
     "end_time": "2024-12-16T13:54:28.840464",
     "exception": false,
     "start_time": "2024-12-16T13:54:28.827309",
     "status": "completed"
    },
    "tags": []
   },
   "outputs": [],
   "source": [
    "class BCEDiceLoss(nn.Module):\n",
    "    def __init__(self, weight_bce=0.5):\n",
    "        \"\"\"\n",
    "        Combined BCE and Dice loss\n",
    "        \n",
    "        Args:\n",
    "            weight_bce (float): Weight for BCE loss\n",
    "            weight_dice (float): Weight for Dice loss\n",
    "        \"\"\"\n",
    "        super().__init__()\n",
    "        self.weight_bce = weight_bce\n",
    "        self.weight_dice = 1 - weight_bce\n",
    "        self.bce = nn.BCELoss()\n",
    "\n",
    "    def dice_loss(self, pred, target):\n",
    "        # Add small epsilon to avoid division by zero\n",
    "        smooth = 1e-5\n",
    "        pred_flat = pred.view(-1)\n",
    "        target_flat = target.view(-1)\n",
    "        p_t_product = (pred_flat * target_flat).sum()\n",
    "        p_t_sum = pred_flat.sum() + target_flat.sum()\n",
    "        \n",
    "        return 1 - ((2. * p_t_product) / (p_t_sum + smooth))\n",
    "\n",
    "    def forward(self, pred, target):\n",
    "        bce_loss = self.bce(pred, target)\n",
    "        dice_loss = self.dice_loss(pred, target)\n",
    "        combined_loss = self.weight_bce * bce_loss + self.weight_dice * dice_loss\n",
    "        \n",
    "        return combined_loss"
   ]
  },
  {
   "cell_type": "code",
   "execution_count": 16,
   "id": "c3c33030",
   "metadata": {
    "execution": {
     "iopub.execute_input": "2024-12-16T13:54:28.851530Z",
     "iopub.status.busy": "2024-12-16T13:54:28.851075Z",
     "iopub.status.idle": "2024-12-16T13:54:28.856700Z",
     "shell.execute_reply": "2024-12-16T13:54:28.855789Z"
    },
    "papermill": {
     "duration": 0.012877,
     "end_time": "2024-12-16T13:54:28.858408",
     "exception": false,
     "start_time": "2024-12-16T13:54:28.845531",
     "status": "completed"
    },
    "tags": []
   },
   "outputs": [],
   "source": [
    "def compute_evaluation_metrics(pred, target, threshold=0.5):\n",
    "    \"\"\"\n",
    "    Calculate accuracy, precision, recall, and Jaccard index\n",
    "    \n",
    "    Args:\n",
    "        pred: Model predictions (after sigmoid)\n",
    "        target: Ground truth masks\n",
    "        threshold: Threshold for binary classification\n",
    "    \n",
    "    Returns:\n",
    "        dict: Dictionary containing all metrics\n",
    "    \"\"\"\n",
    "    # Convert predictions to binary using threshold\n",
    "    pred_binary = (pred > threshold).float()\n",
    "    \n",
    "    # Convert tensors to numpy arrays for sklearn metrics\n",
    "    pred_np = pred_binary.cpu().numpy().flatten()\n",
    "    target_np = target.cpu().numpy().flatten()\n",
    "    \n",
    "    accuracy = accuracy_score(target_np, pred_np)\n",
    "    precision = precision_score(target_np, pred_np, zero_division=0)\n",
    "    recall = recall_score(target_np, pred_np, zero_division=0)\n",
    "    \n",
    "    # Calculate Jaccard index (Intersection over Union)\n",
    "    intersection = (pred_binary * target).sum().item()\n",
    "    union = (pred_binary + target).gt(0).float().sum().item()\n",
    "    jaccard = intersection / (union + 1e-7)  # Add small epsilon to avoid division by zero\n",
    "\n",
    "    \n",
    "    \n",
    "    return {\n",
    "        'accuracy': accuracy,\n",
    "        'precision': precision,\n",
    "        'recall': recall,\n",
    "        'jaccard': jaccard\n",
    "    }"
   ]
  },
  {
   "cell_type": "code",
   "execution_count": 17,
   "id": "c490b6ed",
   "metadata": {
    "execution": {
     "iopub.execute_input": "2024-12-16T13:54:28.869891Z",
     "iopub.status.busy": "2024-12-16T13:54:28.869654Z",
     "iopub.status.idle": "2024-12-16T13:54:28.884691Z",
     "shell.execute_reply": "2024-12-16T13:54:28.883978Z"
    },
    "papermill": {
     "duration": 0.022692,
     "end_time": "2024-12-16T13:54:28.886200",
     "exception": false,
     "start_time": "2024-12-16T13:54:28.863508",
     "status": "completed"
    },
    "tags": []
   },
   "outputs": [],
   "source": [
    "def train_model(model, train_loader, val_loader, criterion, optimizer, \n",
    "                start_epoch, end_epoch, device, checkpoint_dir, \n",
    "                best_val_loss, stats_history, scheduler=None):\n",
    "    \"\"\"\n",
    "    Train the model with checkpoint saving\n",
    "    \n",
    "    Args:\n",
    "        model: The neural network model\n",
    "        train_loader: DataLoader for training data\n",
    "        val_loader: DataLoader for validation data\n",
    "        criterion: Loss function\n",
    "        optimizer: Optimizer\n",
    "        start_epoch: Epoch to start training from\n",
    "        end_epoch: Epoch to end training at\n",
    "        device: Device to train on (cuda/cpu)\n",
    "        checkpoint_dir: Directory to save checkpoints\n",
    "        best_val_loss: The smallest (best) validation loss\n",
    "        stats_history: Dictionary containing history of evaluation metrics\n",
    "        scheduler: Learning rate scheduler (optional)\n",
    "    \"\"\"\n",
    "    os.makedirs(checkpoint_dir)\n",
    "    curr_best_val_loss = best_val_loss\n",
    "    if stats_history is None:\n",
    "        stats_history = {\n",
    "            'train_loss': [], 'val_loss': [],\n",
    "            'train_accuracy': [], 'val_accuracy': [],\n",
    "            'train_precision': [], 'val_precision': [],\n",
    "            'train_recall': [], 'val_recall': [],\n",
    "            'train_jaccard': [], 'val_jaccard': []\n",
    "        }\n",
    "        \n",
    "    # Training loop\n",
    "    for epoch in range(start_epoch, end_epoch):\n",
    "        # Training phase\n",
    "        model.train()\n",
    "        train_loss = 0.0\n",
    "        train_metrics = {'accuracy': [], 'precision': [], 'recall': [], 'jaccard': []}\n",
    "        train_bar = tqdm(train_loader, desc=f'Training Epoch {epoch+1}/{end_epoch}')\n",
    "        \n",
    "        for images, gt_masks in train_bar:\n",
    "            images, gt_masks = images.to(device), gt_masks.to(device)\n",
    "            optimizer.zero_grad()\n",
    "            predictions = model(images)\n",
    "            loss = criterion(predictions, gt_masks)\n",
    "            loss.backward()\n",
    "            optimizer.step()\n",
    "            train_loss += loss.item()\n",
    "            \n",
    "            # Compute training performance metrics for this batch\n",
    "            metrics_values = compute_evaluation_metrics(predictions, gt_masks)\n",
    "            for metric in metrics_values:\n",
    "                train_metrics[metric].append(metrics_values[metric])\n",
    "                \n",
    "            # Update progress bar\n",
    "            train_bar.set_postfix({\n",
    "                'loss': f'{loss.item():.4f}',\n",
    "                'accuracy': f'{metrics_values[\"accuracy\"]:.4f}',\n",
    "            })\n",
    "        \n",
    "        avg_train_loss = train_loss / len(train_loader)\n",
    "        avg_train_metrics = {metric: np.mean(values) for metric, values in train_metrics.items()}\n",
    "        \n",
    "        # Validation phase\n",
    "        model.eval()\n",
    "        val_loss = 0.0\n",
    "        val_metrics = {'accuracy': [], 'precision': [], 'recall': [], 'jaccard': []}\n",
    "        with torch.no_grad():\n",
    "            val_bar = tqdm(val_loader, desc='Validation')\n",
    "            for images, gt_masks in val_bar:\n",
    "                images, gt_masks = images.to(device), gt_masks.to(device)\n",
    "                predictions = model(images)\n",
    "                loss = criterion(predictions, gt_masks)\n",
    "                val_loss += loss.item()\n",
    "\n",
    "                # Compute validation performance metrics for this batch\n",
    "                metrics_values = compute_evaluation_metrics(predictions, gt_masks)\n",
    "                for metric in metrics_values:\n",
    "                    val_metrics[metric].append(metrics_values[metric])\n",
    "                \n",
    "                # Update progress bar\n",
    "                val_bar.set_postfix({\n",
    "                    'loss': f'{loss.item():.4f}',\n",
    "                    'accuracy': f'{metrics_values[\"accuracy\"]:.4f}'\n",
    "                })\n",
    "        \n",
    "        avg_val_loss = val_loss / len(val_loader)\n",
    "        avg_val_metrics = {metric: np.mean(values) for metric, values in val_metrics.items()}\n",
    "        \n",
    "        # Step the scheduler if it exists\n",
    "        if scheduler is not None:\n",
    "            scheduler.step(val_loss)\n",
    "\n",
    "        stats_history['train_loss'].append(avg_train_loss)\n",
    "        stats_history['val_loss'].append(avg_val_loss)\n",
    "        for metric in ['accuracy', 'precision', 'recall', 'jaccard']:\n",
    "            stats_history[f'train_{metric}'].append(avg_train_metrics[metric])\n",
    "            stats_history[f'val_{metric}'].append(avg_val_metrics[metric])\n",
    "        \n",
    "        # Save checkpoint\n",
    "        checkpoint = {\n",
    "            'epoch': epoch + 1,\n",
    "            'model_state_dict': model.state_dict(),\n",
    "            'optimizer_state_dict': optimizer.state_dict(),\n",
    "            'train_loss': avg_train_loss,\n",
    "            'val_loss': avg_val_loss,\n",
    "            'best_val_loss': best_val_loss,\n",
    "            'train_metrics': avg_train_metrics,\n",
    "            'val_metrics': avg_val_metrics,\n",
    "            'stats_history': stats_history\n",
    "        }\n",
    "        \n",
    "        if scheduler is not None:\n",
    "            checkpoint['scheduler_state_dict'] = scheduler.state_dict()\n",
    "        \n",
    "        # If current model is the best model,then save it\n",
    "        if avg_val_loss < curr_best_val_loss:\n",
    "            checkpoint['best_val_loss'] = avg_val_loss\n",
    "            torch.save(checkpoint, os.path.join(checkpoint_dir, 'best_model.pth'))\n",
    "            curr_best_val_loss = avg_val_loss\n",
    "\n",
    "        # Save the latest checkpoint\n",
    "        torch.save(checkpoint, os.path.join(checkpoint_dir, 'latest_checkpoint.pth'))\n",
    "        \n",
    "        print(f\"\\nEpoch [{epoch+1}/{end_epoch}]:\")\n",
    "        print(f\"Train Loss: {avg_train_loss:.4f}, Val Loss: {avg_val_loss:.4f}\")\n",
    "        print(\"Training Metrics:\")\n",
    "        for metric, value in avg_train_metrics.items():\n",
    "            print(f\"  {metric}: {value:.4f}\")\n",
    "        print(\"Validation Metrics:\")\n",
    "        for metric, value in avg_val_metrics.items():\n",
    "            print(f\"  {metric}: {value:.4f}\")\n",
    "        print('-' * 50)\n",
    "\n",
    "    return stats_history"
   ]
  },
  {
   "cell_type": "code",
   "execution_count": 18,
   "id": "10b7271f",
   "metadata": {
    "execution": {
     "iopub.execute_input": "2024-12-16T13:54:28.897488Z",
     "iopub.status.busy": "2024-12-16T13:54:28.897253Z",
     "iopub.status.idle": "2024-12-16T13:54:28.902273Z",
     "shell.execute_reply": "2024-12-16T13:54:28.901535Z"
    },
    "papermill": {
     "duration": 0.0125,
     "end_time": "2024-12-16T13:54:28.903907",
     "exception": false,
     "start_time": "2024-12-16T13:54:28.891407",
     "status": "completed"
    },
    "tags": []
   },
   "outputs": [],
   "source": [
    "def load_checkpoint(model, optimizer, scheduler, checkpoint_dir):\n",
    "    \"\"\"\n",
    "    Load model checkpoint\n",
    "    \n",
    "    Args:\n",
    "        model: The neural network model\n",
    "        optimizer: Optimizer\n",
    "        scheduler: Learning rate scheduler (optional)\n",
    "        checkpoint_path: Path to the checkpoint file\n",
    "    \n",
    "    Returns:\n",
    "        start_epoch: Epoch to resume training from\n",
    "    \"\"\" \n",
    "    checkpoint_path = os.path.join(checkpoint_dir, 'checkpoints/latest_checkpoint.pth')\n",
    "    if os.path.exists(checkpoint_path):\n",
    "        checkpoint_dict = torch.load(checkpoint_path)\n",
    "        model.load_state_dict(checkpoint_dict['model_state_dict'])\n",
    "        optimizer.load_state_dict(checkpoint_dict['optimizer_state_dict'])\n",
    "        if scheduler is not None and 'scheduler_state_dict' in checkpoint_dict:\n",
    "            scheduler.load_state_dict(checkpoint_dict['scheduler_state_dict'])\n",
    "        print(f\"Loaded model from checkpoint: epoch {checkpoint_dict['epoch']}\")\n",
    "        \n",
    "        return checkpoint_dict\n",
    "    else:\n",
    "        print(\"No model checkpoint found, starting from epoch 0\")\n",
    "        \n",
    "        return {}"
   ]
  },
  {
   "cell_type": "code",
   "execution_count": 19,
   "id": "c8f47ace",
   "metadata": {
    "execution": {
     "iopub.execute_input": "2024-12-16T13:54:28.914849Z",
     "iopub.status.busy": "2024-12-16T13:54:28.914608Z",
     "iopub.status.idle": "2024-12-16T13:54:28.976381Z",
     "shell.execute_reply": "2024-12-16T13:54:28.975416Z"
    },
    "papermill": {
     "duration": 0.06897,
     "end_time": "2024-12-16T13:54:28.977978",
     "exception": false,
     "start_time": "2024-12-16T13:54:28.909008",
     "status": "completed"
    },
    "tags": []
   },
   "outputs": [
    {
     "name": "stdout",
     "output_type": "stream",
     "text": [
      "Using device: cuda\n"
     ]
    }
   ],
   "source": [
    "device = torch.device('cuda' if torch.cuda.is_available() else 'cpu')\n",
    "print(f\"Using device: {device}\")"
   ]
  },
  {
   "cell_type": "code",
   "execution_count": 20,
   "id": "5ec97bfa",
   "metadata": {
    "execution": {
     "iopub.execute_input": "2024-12-16T13:54:28.989696Z",
     "iopub.status.busy": "2024-12-16T13:54:28.989444Z",
     "iopub.status.idle": "2024-12-16T14:21:42.405906Z",
     "shell.execute_reply": "2024-12-16T14:21:42.404530Z"
    },
    "papermill": {
     "duration": 1633.424418,
     "end_time": "2024-12-16T14:21:42.407827",
     "exception": false,
     "start_time": "2024-12-16T13:54:28.983409",
     "status": "completed"
    },
    "tags": []
   },
   "outputs": [
    {
     "name": "stderr",
     "output_type": "stream",
     "text": [
      "/opt/conda/lib/python3.10/site-packages/torch/optim/lr_scheduler.py:60: UserWarning: The verbose parameter is deprecated. Please use get_last_lr() to access the learning rate.\n",
      "  warnings.warn(\n",
      "/tmp/ipykernel_23/578337997.py:16: FutureWarning: You are using `torch.load` with `weights_only=False` (the current default value), which uses the default pickle module implicitly. It is possible to construct malicious pickle data which will execute arbitrary code during unpickling (See https://github.com/pytorch/pytorch/blob/main/SECURITY.md#untrusted-models for more details). In a future release, the default value for `weights_only` will be flipped to `True`. This limits the functions that could be executed during unpickling. Arbitrary objects will no longer be allowed to be loaded via this mode unless they are explicitly allowlisted by the user via `torch.serialization.add_safe_globals`. We recommend you start setting `weights_only=True` for any use case where you don't have full control of the loaded file. Please open an issue on GitHub for any issues related to this experimental feature.\n",
      "  checkpoint_dict = torch.load(checkpoint_path)\n"
     ]
    },
    {
     "name": "stdout",
     "output_type": "stream",
     "text": [
      "Loaded model from checkpoint: epoch 118\n",
      "start_epoch: 118, end_epoch: 119\n"
     ]
    },
    {
     "name": "stderr",
     "output_type": "stream",
     "text": [
      "Training Epoch 119/119: 100%|██████████| 897/897 [23:36<00:00,  1.58s/it, loss=0.2325, accuracy=0.9039]\n",
      "Validation: 100%|██████████| 225/225 [03:34<00:00,  1.05it/s, loss=0.0891, accuracy=0.9533]\n"
     ]
    },
    {
     "name": "stdout",
     "output_type": "stream",
     "text": [
      "\n",
      "Epoch [119/119]:\n",
      "Train Loss: 0.2514, Val Loss: 0.1495\n",
      "Training Metrics:\n",
      "  accuracy: 0.8146\n",
      "  precision: 0.8494\n",
      "  recall: 0.8319\n",
      "  jaccard: 0.7097\n",
      "Validation Metrics:\n",
      "  accuracy: 0.8768\n",
      "  precision: 0.8240\n",
      "  recall: 0.9780\n",
      "  jaccard: 0.8091\n",
      "--------------------------------------------------\n"
     ]
    }
   ],
   "source": [
    "pin_memory = torch.cuda.is_available()\n",
    "train_loader = DataLoader(train_set, batch_size=16, shuffle=True, \n",
    "                         num_workers=2, pin_memory=pin_memory)\n",
    "val_loader = DataLoader(val_set, batch_size=16, shuffle=False, \n",
    "                       num_workers=2, pin_memory=pin_memory)\n",
    "test_loader = DataLoader(test_set, batch_size=16, shuffle=False, \n",
    "                        num_workers=2, pin_memory=pin_memory)\n",
    "\n",
    "# Initialize model, loss, and optimizer\n",
    "model = UNetWithAttention(in_channels=4, out_channels=1).to(device)\n",
    "criterion = BCEDiceLoss()\n",
    "optimizer = torch.optim.Adam(model.parameters(), lr=1e-6)\n",
    "scheduler = torch.optim.lr_scheduler.ReduceLROnPlateau(\n",
    "    optimizer, mode='min', factor=0.1, patience=4, verbose=True\n",
    ")\n",
    "checkpoint_input_dir = \"/kaggle/input/cloud-checkpoints\"\n",
    "checkpoint_dict = load_checkpoint(model, optimizer, scheduler, checkpoint_input_dir)\n",
    "best_val_loss = float('inf')\n",
    "stats_history = None\n",
    "start_epoch = 0\n",
    "if checkpoint_dict:\n",
    "    start_epoch = checkpoint_dict['epoch']\n",
    "    if 'best_val_los' in checkpoint_dict:\n",
    "        best_val_loss = checkpoint_dict['best_val_lost']\n",
    "    stats_history = checkpoint_dict['stats_history']\n",
    "end_epoch = start_epoch + 1\n",
    "print(f\"start_epoch: {start_epoch}, end_epoch: {end_epoch}\")\n",
    "\n",
    "# Train the model\n",
    "history = train_model(\n",
    "    model=model,\n",
    "    train_loader=train_loader,\n",
    "    val_loader=val_loader,\n",
    "    criterion=criterion,\n",
    "    optimizer=optimizer,\n",
    "    start_epoch=start_epoch,\n",
    "    end_epoch=end_epoch,\n",
    "    device=device,\n",
    "    checkpoint_dir=\"/kaggle/working/checkpoints\",\n",
    "    best_val_loss=best_val_loss,\n",
    "    stats_history=stats_history,\n",
    "    scheduler=scheduler\n",
    ")"
   ]
  },
  {
   "cell_type": "code",
   "execution_count": 21,
   "id": "0c8b8bcf",
   "metadata": {
    "execution": {
     "iopub.execute_input": "2024-12-16T14:21:42.607980Z",
     "iopub.status.busy": "2024-12-16T14:21:42.606914Z",
     "iopub.status.idle": "2024-12-16T14:21:44.000240Z",
     "shell.execute_reply": "2024-12-16T14:21:43.999427Z"
    },
    "papermill": {
     "duration": 1.495086,
     "end_time": "2024-12-16T14:21:44.002139",
     "exception": false,
     "start_time": "2024-12-16T14:21:42.507053",
     "status": "completed"
    },
    "tags": []
   },
   "outputs": [
    {
     "name": "stderr",
     "output_type": "stream",
     "text": [
      "/tmp/ipykernel_23/1362272786.py:9: FutureWarning: You are using `torch.load` with `weights_only=False` (the current default value), which uses the default pickle module implicitly. It is possible to construct malicious pickle data which will execute arbitrary code during unpickling (See https://github.com/pytorch/pytorch/blob/main/SECURITY.md#untrusted-models for more details). In a future release, the default value for `weights_only` will be flipped to `True`. This limits the functions that could be executed during unpickling. Arbitrary objects will no longer be allowed to be loaded via this mode unless they are explicitly allowlisted by the user via `torch.serialization.add_safe_globals`. We recommend you start setting `weights_only=True` for any use case where you don't have full control of the loaded file. Please open an issue on GitHub for any issues related to this experimental feature.\n",
      "  best_checkpoint_dict = torch.load(best_checkpoint_path)\n"
     ]
    },
    {
     "data": {
      "text/plain": [
       "<All keys matched successfully>"
      ]
     },
     "execution_count": 21,
     "metadata": {},
     "output_type": "execute_result"
    }
   ],
   "source": [
    "pin_memory = torch.cuda.is_available()\n",
    "test_loader = DataLoader(test_set, batch_size=16, shuffle=False, \n",
    "                        num_workers=2, pin_memory=pin_memory)\n",
    "\n",
    "# Initialize model, loss, and optimizer\n",
    "best_model = UNetWithAttention(in_channels=4, out_channels=1).to(device)\n",
    "best_checkpoint_path = \"/kaggle/input/cloud-checkpoints/checkpoints/best_model.pth\"\n",
    "\n",
    "best_checkpoint_dict = torch.load(best_checkpoint_path)\n",
    "best_model.load_state_dict(best_checkpoint_dict['model_state_dict'])"
   ]
  },
  {
   "cell_type": "code",
   "execution_count": 22,
   "id": "960571e8",
   "metadata": {
    "execution": {
     "iopub.execute_input": "2024-12-16T14:21:44.203612Z",
     "iopub.status.busy": "2024-12-16T14:21:44.203263Z",
     "iopub.status.idle": "2024-12-16T14:24:34.677459Z",
     "shell.execute_reply": "2024-12-16T14:24:34.676536Z"
    },
    "papermill": {
     "duration": 170.687442,
     "end_time": "2024-12-16T14:24:34.789647",
     "exception": false,
     "start_time": "2024-12-16T14:21:44.102205",
     "status": "completed"
    },
    "tags": []
   },
   "outputs": [
    {
     "name": "stdout",
     "output_type": "stream",
     "text": [
      "Number of saved prediction files: 9201\n"
     ]
    }
   ],
   "source": [
    "def save_predictions(model, test_loader, test_dataset, save_dir):\n",
    "    \"\"\"\n",
    "    Save model predictions as TIF files with probabilities\n",
    "    \n",
    "    Args:\n",
    "        model: Your trained model\n",
    "        test_loader: DataLoader for test set\n",
    "        test_dataset: The dataset used for testing\n",
    "        save_dir: Directory to save predictions\n",
    "    \"\"\"\n",
    "    os.makedirs(save_dir, exist_ok=True)\n",
    "    model.eval()\n",
    "    saved_file_count = 0\n",
    "    \n",
    "    with torch.no_grad():\n",
    "        for i, batch in enumerate(test_loader):\n",
    "            # Get batch of images and forward pass\n",
    "            if torch.cuda.is_available():\n",
    "                batch = batch.cuda()\n",
    "            outputs = model(batch)\n",
    "            preds = outputs.cpu().numpy()\n",
    "            \n",
    "            # Get corresponding filenames for this batch\n",
    "            start_idx = i * test_loader.batch_size\n",
    "            end_idx = start_idx + len(preds)\n",
    "            full_paths = test_image_paths[\"red\"][start_idx:end_idx]\n",
    "            \n",
    "            # Save each prediction in the batch\n",
    "            for pred, path in zip(preds, full_paths):\n",
    "                original_filename = os.path.basename(path)\n",
    "\n",
    "                # Remove 'red_' prefix and keep the rest of the original filename\n",
    "                new_filename = original_filename[4:]\n",
    "                \n",
    "                # Remove channel dimension if exists\n",
    "                pred = pred.squeeze()  # Should now be 384x384\n",
    "                \n",
    "                # Save as TIF with probabilities (0-1 range)\n",
    "                probability_img = Image.fromarray(pred.astype(np.float32))\n",
    "                probability_img.save(os.path.join(save_dir, new_filename), format='TIFF', mode='F')\n",
    "                saved_file_count += 1\n",
    "\n",
    "    print(f\"Number of saved prediction files: {saved_file_count}\")\n",
    "\n",
    "\n",
    "save_predictions(best_model, test_loader, test_set, '/kaggle/working/test_set_preds')"
   ]
  },
  {
   "cell_type": "code",
   "execution_count": 23,
   "id": "d0677557",
   "metadata": {
    "execution": {
     "iopub.execute_input": "2024-12-16T14:24:35.104492Z",
     "iopub.status.busy": "2024-12-16T14:24:35.104127Z",
     "iopub.status.idle": "2024-12-16T14:24:35.109896Z",
     "shell.execute_reply": "2024-12-16T14:24:35.109059Z"
    },
    "papermill": {
     "duration": 0.131039,
     "end_time": "2024-12-16T14:24:35.111598",
     "exception": false,
     "start_time": "2024-12-16T14:24:34.980559",
     "status": "completed"
    },
    "tags": []
   },
   "outputs": [],
   "source": [
    "import matplotlib.pyplot as plt"
   ]
  },
  {
   "cell_type": "code",
   "execution_count": 24,
   "id": "2b09c321",
   "metadata": {
    "execution": {
     "iopub.execute_input": "2024-12-16T14:24:35.330345Z",
     "iopub.status.busy": "2024-12-16T14:24:35.329111Z",
     "iopub.status.idle": "2024-12-16T14:24:36.403820Z",
     "shell.execute_reply": "2024-12-16T14:24:36.402960Z"
    },
    "papermill": {
     "duration": 1.191933,
     "end_time": "2024-12-16T14:24:36.405554",
     "exception": false,
     "start_time": "2024-12-16T14:24:35.213621",
     "status": "completed"
    },
    "tags": []
   },
   "outputs": [
    {
     "name": "stderr",
     "output_type": "stream",
     "text": [
      "/tmp/ipykernel_23/1257352239.py:2: FutureWarning: You are using `torch.load` with `weights_only=False` (the current default value), which uses the default pickle module implicitly. It is possible to construct malicious pickle data which will execute arbitrary code during unpickling (See https://github.com/pytorch/pytorch/blob/main/SECURITY.md#untrusted-models for more details). In a future release, the default value for `weights_only` will be flipped to `True`. This limits the functions that could be executed during unpickling. Arbitrary objects will no longer be allowed to be loaded via this mode unless they are explicitly allowlisted by the user via `torch.serialization.add_safe_globals`. We recommend you start setting `weights_only=True` for any use case where you don't have full control of the loaded file. Please open an issue on GitHub for any issues related to this experimental feature.\n",
      "  latest_checkpoint_dict = torch.load(latest_checkpoint_path)\n"
     ]
    },
    {
     "data": {
      "image/png": "[encoded data removed]",
      "text/plain": [
       "<Figure size 1200x200 with 1 Axes>"
      ]
     },
     "metadata": {},
     "output_type": "display_data"
    }
   ],
   "source": [
    "latest_checkpoint_path = \"/kaggle/input/cloud-checkpoints/checkpoints/latest_checkpoint.pth\"\n",
    "latest_checkpoint_dict = torch.load(latest_checkpoint_path)\n",
    "\n",
    "# Plot the train and val loss\n",
    "epochs = range(1, len(history['train_loss']) + 1)\n",
    "\n",
    "plt.figure(figsize=(12, 2))\n",
    "plt.plot(epochs, history['train_loss'], label='Train Loss', color='blue')\n",
    "plt.plot(epochs, history['val_loss'], label='Validation Loss', color='orange')\n",
    "plt.xlabel('Epochs')\n",
    "plt.ylabel('Combined Loss')\n",
    "plt.title('Training and Validation Loss')\n",
    "plt.legend()\n",
    "plt.grid(True)\n",
    "\n",
    "# Save the plot as a png file\n",
    "plt.savefig('/kaggle/working/train_val_loss_plot.png')\n",
    "plt.show()"
   ]
  }
 ],
 "metadata": {
  "kaggle": {
   "accelerator": "gpu",
   "dataSources": [
    {
     "datasetId": 6201146,
     "sourceId": 10062495,
     "sourceType": "datasetVersion"
    },
    {
     "datasetId": 6253247,
     "sourceId": 10216941,
     "sourceType": "datasetVersion"
    }
   ],
   "dockerImageVersionId": 30804,
   "isGpuEnabled": true,
   "isInternetEnabled": true,
   "language": "python",
   "sourceType": "notebook"
  },
  "kernelspec": {
   "display_name": "Python 3",
   "language": "python",
   "name": "python3"
  },
  "language_info": {
   "codemirror_mode": {
    "name": "ipython",
    "version": 3
   },
   "file_extension": ".py",
   "mimetype": "text/x-python",
   "name": "python",
   "nbconvert_exporter": "python",
   "pygments_lexer": "ipython3",
   "version": "3.10.14"
  },
  "papermill": {
   "default_parameters": {},
   "duration": 1820.328026,
   "end_time": "2024-12-16T14:24:38.761882",
   "environment_variables": {},
   "exception": null,
   "input_path": "__notebook__.ipynb",
   "output_path": "__notebook__.ipynb",
   "parameters": {},
   "start_time": "2024-12-16T13:54:18.433856",
   "version": "2.6.0"
  }
 },
 "nbformat": 4,
 "nbformat_minor": 5
}
